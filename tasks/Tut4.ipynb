{
  "nbformat": 4,
  "nbformat_minor": 0,
  "metadata": {
    "colab": {
      "provenance": [],
      "authorship_tag": "ABX9TyMTpWXrRF/MQ21H1EoHgT1k",
      "include_colab_link": true
    },
    "kernelspec": {
      "name": "python3",
      "display_name": "Python 3"
    },
    "language_info": {
      "name": "python"
    },
    "widgets": {
      "application/vnd.jupyter.widget-state+json": {
        "bbefda6530b744a69edc61c2479538d9": {
          "model_module": "@jupyter-widgets/controls",
          "model_name": "VBoxModel",
          "model_module_version": "1.5.0",
          "state": {
            "_dom_classes": [
              "widget-interact"
            ],
            "_model_module": "@jupyter-widgets/controls",
            "_model_module_version": "1.5.0",
            "_model_name": "VBoxModel",
            "_view_count": null,
            "_view_module": "@jupyter-widgets/controls",
            "_view_module_version": "1.5.0",
            "_view_name": "VBoxView",
            "box_style": "",
            "children": [
              "IPY_MODEL_34c7170f7251461fba66c1522a7d3722",
              "IPY_MODEL_27cf013b96b14f4fa92ff061f152daae"
            ],
            "layout": "IPY_MODEL_c61a461459cd44d9a5a9fb681b4555f0"
          }
        },
        "34c7170f7251461fba66c1522a7d3722": {
          "model_module": "@jupyter-widgets/controls",
          "model_name": "DropdownModel",
          "model_module_version": "1.5.0",
          "state": {
            "_dom_classes": [],
            "_model_module": "@jupyter-widgets/controls",
            "_model_module_version": "1.5.0",
            "_model_name": "DropdownModel",
            "_options_labels": [
              "Time",
              "Document",
              "Tab",
              "User",
              "Description"
            ],
            "_view_count": null,
            "_view_module": "@jupyter-widgets/controls",
            "_view_module_version": "1.5.0",
            "_view_name": "DropdownView",
            "description": "Select Column:",
            "description_tooltip": null,
            "disabled": false,
            "index": 2,
            "layout": "IPY_MODEL_7941a658de3a4eca82483e3bfa9f6f2c",
            "style": "IPY_MODEL_840b0146e6944510841f5119dfaec3ed"
          }
        },
        "27cf013b96b14f4fa92ff061f152daae": {
          "model_module": "@jupyter-widgets/output",
          "model_name": "OutputModel",
          "model_module_version": "1.0.0",
          "state": {
            "_dom_classes": [],
            "_model_module": "@jupyter-widgets/output",
            "_model_module_version": "1.0.0",
            "_model_name": "OutputModel",
            "_view_count": null,
            "_view_module": "@jupyter-widgets/output",
            "_view_module_version": "1.0.0",
            "_view_name": "OutputView",
            "layout": "IPY_MODEL_9746108d153c4a22a5bdcde1fe736dc3",
            "msg_id": "",
            "outputs": [
              {
                "output_type": "display_data",
                "data": {
                  "text/plain": "<Figure size 1000x600 with 1 Axes>",
                  "image/png": "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\n"
                },
                "metadata": {}
              }
            ]
          }
        },
        "c61a461459cd44d9a5a9fb681b4555f0": {
          "model_module": "@jupyter-widgets/base",
          "model_name": "LayoutModel",
          "model_module_version": "1.2.0",
          "state": {
            "_model_module": "@jupyter-widgets/base",
            "_model_module_version": "1.2.0",
            "_model_name": "LayoutModel",
            "_view_count": null,
            "_view_module": "@jupyter-widgets/base",
            "_view_module_version": "1.2.0",
            "_view_name": "LayoutView",
            "align_content": null,
            "align_items": null,
            "align_self": null,
            "border": null,
            "bottom": null,
            "display": null,
            "flex": null,
            "flex_flow": null,
            "grid_area": null,
            "grid_auto_columns": null,
            "grid_auto_flow": null,
            "grid_auto_rows": null,
            "grid_column": null,
            "grid_gap": null,
            "grid_row": null,
            "grid_template_areas": null,
            "grid_template_columns": null,
            "grid_template_rows": null,
            "height": null,
            "justify_content": null,
            "justify_items": null,
            "left": null,
            "margin": null,
            "max_height": null,
            "max_width": null,
            "min_height": null,
            "min_width": null,
            "object_fit": null,
            "object_position": null,
            "order": null,
            "overflow": null,
            "overflow_x": null,
            "overflow_y": null,
            "padding": null,
            "right": null,
            "top": null,
            "visibility": null,
            "width": null
          }
        },
        "7941a658de3a4eca82483e3bfa9f6f2c": {
          "model_module": "@jupyter-widgets/base",
          "model_name": "LayoutModel",
          "model_module_version": "1.2.0",
          "state": {
            "_model_module": "@jupyter-widgets/base",
            "_model_module_version": "1.2.0",
            "_model_name": "LayoutModel",
            "_view_count": null,
            "_view_module": "@jupyter-widgets/base",
            "_view_module_version": "1.2.0",
            "_view_name": "LayoutView",
            "align_content": null,
            "align_items": null,
            "align_self": null,
            "border": null,
            "bottom": null,
            "display": null,
            "flex": null,
            "flex_flow": null,
            "grid_area": null,
            "grid_auto_columns": null,
            "grid_auto_flow": null,
            "grid_auto_rows": null,
            "grid_column": null,
            "grid_gap": null,
            "grid_row": null,
            "grid_template_areas": null,
            "grid_template_columns": null,
            "grid_template_rows": null,
            "height": null,
            "justify_content": null,
            "justify_items": null,
            "left": null,
            "margin": null,
            "max_height": null,
            "max_width": null,
            "min_height": null,
            "min_width": null,
            "object_fit": null,
            "object_position": null,
            "order": null,
            "overflow": null,
            "overflow_x": null,
            "overflow_y": null,
            "padding": null,
            "right": null,
            "top": null,
            "visibility": null,
            "width": null
          }
        },
        "840b0146e6944510841f5119dfaec3ed": {
          "model_module": "@jupyter-widgets/controls",
          "model_name": "DescriptionStyleModel",
          "model_module_version": "1.5.0",
          "state": {
            "_model_module": "@jupyter-widgets/controls",
            "_model_module_version": "1.5.0",
            "_model_name": "DescriptionStyleModel",
            "_view_count": null,
            "_view_module": "@jupyter-widgets/base",
            "_view_module_version": "1.2.0",
            "_view_name": "StyleView",
            "description_width": ""
          }
        },
        "9746108d153c4a22a5bdcde1fe736dc3": {
          "model_module": "@jupyter-widgets/base",
          "model_name": "LayoutModel",
          "model_module_version": "1.2.0",
          "state": {
            "_model_module": "@jupyter-widgets/base",
            "_model_module_version": "1.2.0",
            "_model_name": "LayoutModel",
            "_view_count": null,
            "_view_module": "@jupyter-widgets/base",
            "_view_module_version": "1.2.0",
            "_view_name": "LayoutView",
            "align_content": null,
            "align_items": null,
            "align_self": null,
            "border": null,
            "bottom": null,
            "display": null,
            "flex": null,
            "flex_flow": null,
            "grid_area": null,
            "grid_auto_columns": null,
            "grid_auto_flow": null,
            "grid_auto_rows": null,
            "grid_column": null,
            "grid_gap": null,
            "grid_row": null,
            "grid_template_areas": null,
            "grid_template_columns": null,
            "grid_template_rows": null,
            "height": null,
            "justify_content": null,
            "justify_items": null,
            "left": null,
            "margin": null,
            "max_height": null,
            "max_width": null,
            "min_height": null,
            "min_width": null,
            "object_fit": null,
            "object_position": null,
            "order": null,
            "overflow": null,
            "overflow_x": null,
            "overflow_y": null,
            "padding": null,
            "right": null,
            "top": null,
            "visibility": null,
            "width": null
          }
        }
      }
    }
  },
  "cells": [
    {
      "cell_type": "markdown",
      "metadata": {
        "id": "view-in-github",
        "colab_type": "text"
      },
      "source": [
        "<a href=\"https://colab.research.google.com/github/RaedHadad/Elephant/blob/main/tasks/Tut4.ipynb\" target=\"_parent\"><img src=\"https://colab.research.google.com/assets/colab-badge.svg\" alt=\"Open In Colab\"/></a>"
      ]
    },
    {
      "cell_type": "code",
      "execution_count": 8,
      "metadata": {
        "colab": {
          "base_uri": "https://localhost:8080/",
          "height": 1000,
          "referenced_widgets": [
            "bbefda6530b744a69edc61c2479538d9",
            "34c7170f7251461fba66c1522a7d3722",
            "27cf013b96b14f4fa92ff061f152daae",
            "c61a461459cd44d9a5a9fb681b4555f0",
            "7941a658de3a4eca82483e3bfa9f6f2c",
            "840b0146e6944510841f5119dfaec3ed",
            "9746108d153c4a22a5bdcde1fe736dc3"
          ]
        },
        "id": "Led1pWCIW0KA",
        "outputId": "ee8c8d37-7863-4adf-db35-8b4f6c9fa68f"
      },
      "outputs": [
        {
          "output_type": "stream",
          "name": "stdout",
          "text": [
            "Mounted at /content/drive\n",
            "                  Time              Document                   Tab       User  \\\n",
            "0  2023-01-13 14:12:54  Industry 4.0 Project                   N/A  StudentA1   \n",
            "1  2023-01-13 14:12:53  Industry 4.0 Project  Part Studio 2 Copy 1  StudentA1   \n",
            "2  2023-01-13 13:27:38  Industry 4.0 Project  Part Studio 2 Copy 1  StudentA1   \n",
            "3  2023-01-13 13:27:37  Industry 4.0 Project  Part Studio 2 Copy 1  StudentA1   \n",
            "4  2023-01-13 13:27:37  Industry 4.0 Project  Part Studio 2 Copy 1  StudentA1   \n",
            "\n",
            "                                         Description  \n",
            "0                                     Close document  \n",
            "1  Tab Part Studio 2 Copy 1 of type PARTSTUDIO cl...  \n",
            "2                                         Hide Right  \n",
            "3                                         Hide Front  \n",
            "4                                           Hide Top  \n"
          ]
        },
        {
          "output_type": "display_data",
          "data": {
            "text/plain": [
              "interactive(children=(Dropdown(description='Select Column:', options=('Time', 'Document', 'Tab', 'User', 'Desc…"
            ],
            "application/vnd.jupyter.widget-view+json": {
              "version_major": 2,
              "version_minor": 0,
              "model_id": "bbefda6530b744a69edc61c2479538d9"
            }
          },
          "metadata": {}
        },
        {
          "output_type": "execute_result",
          "data": {
            "text/plain": [
              "<function __main__.plot_graphs(column)>"
            ],
            "text/html": [
              "<div style=\"max-width:800px; border: 1px solid var(--colab-border-color);\"><style>\n",
              "      pre.function-repr-contents {\n",
              "        overflow-x: auto;\n",
              "        padding: 8px 12px;\n",
              "        max-height: 500px;\n",
              "      }\n",
              "\n",
              "      pre.function-repr-contents.function-repr-contents-collapsed {\n",
              "        cursor: pointer;\n",
              "        max-height: 100px;\n",
              "      }\n",
              "    </style>\n",
              "    <pre style=\"white-space: initial; background:\n",
              "         var(--colab-secondary-surface-color); padding: 8px 12px;\n",
              "         border-bottom: 1px solid var(--colab-border-color);\"><b>plot_graphs</b><br/>def plot_graphs(column)</pre><pre class=\"function-repr-contents function-repr-contents-collapsed\" style=\"\"><a class=\"filepath\" style=\"display:none\" href=\"#\">/content/&lt;ipython-input-8-4a418c545193&gt;</a>&lt;no docstring&gt;</pre></div>"
            ]
          },
          "metadata": {},
          "execution_count": 8
        }
      ],
      "source": [
        "import pandas as pd\n",
        "import json\n",
        "import matplotlib.pyplot as plt\n",
        "from google.colab import drive\n",
        "from ipywidgets import widgets, interact\n",
        "\n",
        "# Mount Google Drive\n",
        "drive.mount('/content/drive')\n",
        "\n",
        "# Load data from JSON file\n",
        "file_path = '/content/drive/My Drive/data.json'\n",
        "with open(file_path, 'r') as file:\n",
        "    data = json.load(file)\n",
        "\n",
        "# Convert JSON data to DataFrame\n",
        "df = pd.DataFrame(data)\n",
        "\n",
        "# Display DataFrame\n",
        "print(df)\n",
        "\n",
        "# Function to plot graphs\n",
        "def plot_graphs(column):\n",
        "    plt.figure(figsize=(10, 6))\n",
        "    if column in df.columns:\n",
        "        df[column].value_counts().plot(kind='bar', color='skyblue')\n",
        "        plt.xlabel(column)\n",
        "        plt.ylabel('Count')\n",
        "        plt.title(f'Bar graph of {column}')\n",
        "        plt.show()\n",
        "    else:\n",
        "        print(f'Column \"{column}\" not found in DataFrame.')\n",
        "\n",
        "# Dropdown for selecting column to plot\n",
        "dropdown = widgets.Dropdown(options=df.columns, description='Select Column:')\n",
        "\n",
        "# Interact function to update graph based on selected column\n",
        "interact(plot_graphs, column=dropdown)\n"
      ]
    }
  ]
}