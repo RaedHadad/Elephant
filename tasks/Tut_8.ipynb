{
  "nbformat": 4,
  "nbformat_minor": 0,
  "metadata": {
    "colab": {
      "provenance": [],
      "authorship_tag": "ABX9TyNhkLImqhz4cTCgy/JY2QZs",
      "include_colab_link": true
    },
    "kernelspec": {
      "name": "python3",
      "display_name": "Python 3"
    },
    "language_info": {
      "name": "python"
    }
  },
  "cells": [
    {
      "cell_type": "markdown",
      "metadata": {
        "id": "view-in-github",
        "colab_type": "text"
      },
      "source": [
        "<a href=\"https://colab.research.google.com/github/RaedHadad/Elephant/blob/main/tasks/Tut_8.ipynb\" target=\"_parent\"><img src=\"https://colab.research.google.com/assets/colab-badge.svg\" alt=\"Open In Colab\"/></a>"
      ]
    },
    {
      "cell_type": "code",
      "execution_count": null,
      "metadata": {
        "colab": {
          "base_uri": "https://localhost:8080/"
        },
        "id": "vBfgUXExGVNV",
        "outputId": "0f05109f-a481-45a0-fcbd-f47a3c22e8a1"
      },
      "outputs": [
        {
          "output_type": "stream",
          "name": "stdout",
          "text": [
            "Welcome to the enhanced chatbot. Type 'quit' to exit.\n",
            "You: hi\n",
            "Bot: Hi there!\n",
            "You: tell me about \n",
            "Bot: Let me see...  is quite interesting!\n",
            "You: what is your name\n",
            "Bot: I am your friendly chatbot, here to assist you.\n"
          ]
        }
      ],
      "source": [
        "import nltk\n",
        "from nltk.chat.util import Chat, reflections\n",
        "import random\n",
        "\n",
        "patterns = [\n",
        "    (r'hello|hi|hey', ['Hi there!', 'Hello!', 'Hey!']),\n",
        "    (r'how are you|how are you doing', ['I am fine, thank you! How can I help you today?', 'Doing great! How about you?']),\n",
        "    (r'what is your name|who are you', ['I am your friendly chatbot, here to assist you.', 'You can call me ChatBot!']),\n",
        "    (r'tell me about (.*)', ['Sure, what would you like to know about %1?', 'Let me see... %1 is quite interesting!']),\n",
        "    (r'(.*) help (.*)', ['I am here to help with %2. How can I assist you further?', 'Let\\'s figure out %2 together!']),\n",
        "    (r'can you explain (.*)', ['%1 is an important concept. Would you like more details?', 'Certainly! %1 is often related to broader topics.']),\n",
        "    (r'(.*) (cloud computing|AI|machine learning)', [\n",
        "        'Cloud computing is the delivery of computing services over the internet.',\n",
        "        'AI stands for Artificial Intelligence, which is the simulation of human intelligence by machines.',\n",
        "        'Machine learning is a branch of AI focused on building systems that learn from data.'\n",
        "    ]),\n",
        "    (r'(.*) weather in (.*)', ['I\\'m sorry, I can\\'t provide weather updates yet.', 'Weather in %2 can be tricky, make sure to check an updated source!']),\n",
        "    (r'quit', ['Goodbye! Have a great day!', 'See you later!']),\n",
        "]\n",
        "\n",
        "\n",
        "class CustomChat(Chat):\n",
        "    def __init__(self, pairs, reflections):\n",
        "        super().__init__(pairs, reflections)\n",
        "\n",
        "    def converse(self, quit=\"quit\"):\n",
        "        print(\"Welcome to the enhanced chatbot. Type 'quit' to exit.\")\n",
        "        while True:\n",
        "            user_input = input(\"You: \")\n",
        "            if user_input.lower() == quit:\n",
        "                print(\"Bot: Goodbye! Have a great day!\")\n",
        "                break\n",
        "            response = self.respond(user_input)\n",
        "            if response:\n",
        "                print(\"Bot:\", response)\n",
        "            else:\n",
        "                print(\"Bot: I'm not sure I understand. Can you rephrase?\")\n",
        "\n",
        "def random_response(responses):\n",
        "    return random.choice(responses)\n",
        "\n",
        "chatbot = CustomChat(patterns, reflections)\n",
        "chatbot.converse()\n"
      ]
    }
  ]
}